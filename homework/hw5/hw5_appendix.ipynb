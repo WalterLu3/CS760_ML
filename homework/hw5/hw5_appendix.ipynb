{
 "cells": [
  {
   "cell_type": "code",
   "execution_count": 60,
   "metadata": {},
   "outputs": [],
   "source": [
    "import csv\n",
    "import numpy as np\n",
    "import copy\n",
    "import math\n",
    "from scipy import stats\n",
    "from scipy.stats import norm\n",
    "import matplotlib.pyplot as plt"
   ]
  },
  {
   "cell_type": "code",
   "execution_count": 61,
   "metadata": {},
   "outputs": [],
   "source": [
    "def split_train_label(data):\n",
    "    train_x = []\n",
    "    train_y = []\n",
    "    for i in data:\n",
    "        train_x.append(i[1:])\n",
    "        train_y.append([i[0]])\n",
    "        \n",
    "    return train_x,train_y"
   ]
  },
  {
   "cell_type": "code",
   "execution_count": 62,
   "metadata": {},
   "outputs": [],
   "source": [
    "with open('titanic_data.csv','r') as file:\n",
    "    temp = csv.reader(file)\n",
    "    data = list(temp)\n",
    "\n",
    "header = data[0]\n",
    "data = data[1:]\n",
    "for i in range(len(data)):\n",
    "    row_len = len(data[0])\n",
    "    for j in range(row_len):\n",
    "        data[i][j] = float(data[i][j])\n",
    "    \n",
    "train_x, train_y = split_train_label(data)"
   ]
  },
  {
   "cell_type": "markdown",
   "metadata": {},
   "source": [
    "# Convert all features into binary features"
   ]
  },
  {
   "cell_type": "markdown",
   "metadata": {},
   "source": [
    "I used average as the criteria to change the data"
   ]
  },
  {
   "cell_type": "code",
   "execution_count": 63,
   "metadata": {},
   "outputs": [
    {
     "name": "stdout",
     "output_type": "stream",
     "text": [
      "[2.305524239007892, 0.35400225479143177, 29.471443066516347, 0.5253664036076663, 0.3833145434047351, 32.30542018038328]\n"
     ]
    }
   ],
   "source": [
    "#binary conversion\n",
    "binary_avg = []\n",
    "for i in range(len(header[1:])):\n",
    "    total = 0\n",
    "    avg = 0\n",
    "    for j in train_x:\n",
    "        total += j[i]  \n",
    "    avg = total/len(train_x)      \n",
    "    binary_avg.append(avg)\n",
    "    \n",
    "for i in range(len(train_x)):\n",
    "    for j in range(len(train_x[0])):\n",
    "        if train_x[i][j] >= binary_avg[j]:\n",
    "            train_x[i][j] = 1.0\n",
    "        else:\n",
    "            train_x[i][j] = 0.0\n",
    "            \n",
    "print(binary_avg)"
   ]
  },
  {
   "cell_type": "code",
   "execution_count": 64,
   "metadata": {},
   "outputs": [],
   "source": [
    "def k_cross_validation(x,y,model,k=10):\n",
    "    interval = math.ceil(len(train_x)/k)\n",
    "    global_accuracy = []\n",
    "    for i in range(10):\n",
    "        local_accuracy = 0\n",
    "        count = 0\n",
    "        tr_x = []\n",
    "        tr_y = []\n",
    "        te_x = []\n",
    "        te_y = []\n",
    "        te_x += x[i*interval : (i+1)*interval]\n",
    "        te_y += y[i*interval : (i+1)*interval]\n",
    "        tr_x += x[0:i*interval]\n",
    "        tr_x += x[(i+1)*interval:]\n",
    "        tr_y += y[0:i*interval]\n",
    "        tr_y += y[(i+1)*interval:]\n",
    "        \n",
    "        predictor = model(tr_x, tr_y)\n",
    "        for j in range(len(te_x)):\n",
    "            if predictor.predict(te_x[j]) == te_y[j][0]:\n",
    "                count += 1\n",
    "        global_accuracy.append(count/len(te_x))\n",
    "    return sum(global_accuracy)/len(global_accuracy), global_accuracy\n",
    "        "
   ]
  },
  {
   "cell_type": "markdown",
   "metadata": {},
   "source": [
    "# KNN Model"
   ]
  },
  {
   "cell_type": "code",
   "execution_count": 65,
   "metadata": {},
   "outputs": [],
   "source": [
    "class KNN:\n",
    "    def __init__(self,train_x,train_y,k_parameter = 3): # input can be k\n",
    "        self.train_x = np.array(train_x)\n",
    "        self.train_y = np.array(train_y)\n",
    "        self.k_parameter = k_parameter\n",
    "    def predict(self,test_x):\n",
    "        test_x = np.array(copy.deepcopy(test_x))\n",
    "        all_distance = []\n",
    "        for idx in range(len(self.train_x)):\n",
    "            single_train_x = self.train_x[idx]\n",
    "            difference = np.subtract(single_train_x,test_x)\n",
    "            distance = 0\n",
    "            for single_error in difference:\n",
    "                distance += abs(single_error)\n",
    "            all_distance.append((idx,distance))\n",
    "        all_distance = sorted(all_distance, key = self.get_difference)\n",
    "        prediction = sum(self.train_y[x[0]] for x in all_distance[:self.k_parameter])/self.k_parameter\n",
    "        \n",
    "        if prediction > 0.5:\n",
    "            return 1\n",
    "        else:\n",
    "            return 0\n",
    "        #return prediction\n",
    "    def get_difference(self,distance_element):\n",
    "        return distance_element[1]"
   ]
  },
  {
   "cell_type": "code",
   "execution_count": 66,
   "metadata": {},
   "outputs": [],
   "source": [
    "predictor = KNN(train_x,train_y)"
   ]
  },
  {
   "cell_type": "code",
   "execution_count": 67,
   "metadata": {},
   "outputs": [
    {
     "data": {
      "text/plain": [
       "0"
      ]
     },
     "execution_count": 67,
     "metadata": {},
     "output_type": "execute_result"
    }
   ],
   "source": [
    "predictor.predict([1,0,0,0,0,1])"
   ]
  },
  {
   "cell_type": "code",
   "execution_count": 68,
   "metadata": {},
   "outputs": [],
   "source": [
    "\n",
    "total_k = []\n",
    "for i in range(1,101):\n",
    "    total_k.append(i)"
   ]
  },
  {
   "cell_type": "code",
   "execution_count": null,
   "metadata": {},
   "outputs": [],
   "source": [
    "result = []\n",
    "for i in total_k:\n",
    "    predictor = KNN(train_x,train_y,k_parameter = i)\n",
    "    result.append(predictor.predict([1,0,0,0,0,1])[0])\n",
    "print(result)"
   ]
  },
  {
   "cell_type": "code",
   "execution_count": 10,
   "metadata": {},
   "outputs": [
    {
     "data": {
      "image/png": "[encoded data removed]",
      "text/plain": [
       "<Figure size 432x288 with 1 Axes>"
      ]
     },
     "metadata": {
      "needs_background": "light"
     },
     "output_type": "display_data"
    }
   ],
   "source": [
    "import matplotlib.pyplot as plt\n",
    "plt.plot(total_k,result)\n",
    "plt.ylabel('Probability of Survival')\n",
    "plt.xlabel('K')\n",
    "plt.show()\n"
   ]
  },
  {
   "cell_type": "code",
   "execution_count": 70,
   "metadata": {},
   "outputs": [
    {
     "name": "stdout",
     "output_type": "stream",
     "text": [
      "0.7881369218709171 [0.7078651685393258, 0.8426966292134831, 0.7640449438202247, 0.797752808988764, 0.797752808988764, 0.797752808988764, 0.7640449438202247, 0.7528089887640449, 0.8426966292134831, 0.813953488372093]\n"
     ]
    }
   ],
   "source": [
    "result = k_cross_validation(train_x,train_y,KNN)\n",
    "validation_accuracy_list = result[1]\n",
    "validation_accuracy = result[0]\n",
    "print(validation_accuracy,validation_accuracy_list)"
   ]
  },
  {
   "cell_type": "markdown",
   "metadata": {},
   "source": [
    "# Naive Bayes Model"
   ]
  },
  {
   "cell_type": "code",
   "execution_count": 71,
   "metadata": {},
   "outputs": [],
   "source": [
    "with open('titanic_data.csv','r') as file:\n",
    "    temp = csv.reader(file)\n",
    "    data = list(temp)\n",
    "\n",
    "header = data[0]\n",
    "data = data[1:]\n",
    "for i in range(len(data)):\n",
    "    row_len = len(data[0])\n",
    "    for j in range(row_len):\n",
    "        data[i][j] = float(data[i][j])\n",
    "    \n",
    "train_x, train_y = split_train_label(data)"
   ]
  },
  {
   "cell_type": "code",
   "execution_count": 72,
   "metadata": {},
   "outputs": [],
   "source": [
    "class NaiveBayes:\n",
    "    def __init__(self,train_x,train_y):\n",
    "        self.train_x = np.array(train_x)\n",
    "        self.train_y = np.array(train_y)\n",
    "    def normal_pdf(self,average,variance,test_value):\n",
    "        likelihood = 1/(np.sqrt(2 * np.pi * variance)) * np.exp( - (test_value - average)**2 / (2 * variance))\n",
    "        return(likelihood)\n",
    "    def predict(self,test_x):\n",
    "        test_x = np.array(copy.deepcopy(test_x))\n",
    "        # divide data into two class\n",
    "        total_class = [[],[]]\n",
    "    \n",
    "        for i in range(len(self.train_x)):\n",
    "            if self.train_y[i] == 0:\n",
    "                total_class[0].append(self.train_x[i])\n",
    "            elif self.train_y[i] == 1:\n",
    "                total_class[1].append(self.train_x[i])              \n",
    "        #calculate class 0 posterior\n",
    "        class_probability = [0,0]\n",
    "        for class_idx in range(2): # go over all class\n",
    "            p_y = len(total_class[class_idx])/(len(total_class[0])+len(total_class[1]))\n",
    "            for feature in range(len(self.train_x[0])):\n",
    "                if feature == 0: # pclass multinomial\n",
    "                    count = 0\n",
    "                    for i in total_class[class_idx]:\n",
    "                        if i[feature] == test_x[feature]:\n",
    "                            count += 1\n",
    "                    p_y = p_y * (count+1)/(len(total_class[class_idx])+3)\n",
    "                elif feature == 1: # gender binomial\n",
    "                    count = 0\n",
    "                    for i in total_class[class_idx]:\n",
    "                        if i[feature] == test_x[feature]:\n",
    "                            count += 1\n",
    "                    p_y = p_y * (count+1)/(len(total_class[class_idx])+2)\n",
    "                else: # continuous\n",
    "                    continuous_list = []\n",
    "                    for i in total_class[class_idx]:\n",
    "                        continuous_list.append(i[feature])\n",
    "                    avg = sum(continuous_list)/len(continuous_list)\n",
    "                    var = np.var(continuous_list)\n",
    "                    p_y = p_y * self.normal_pdf(avg,var,test_x[feature])\n",
    "            class_probability[class_idx] = p_y\n",
    "        if class_probability[0] >= class_probability[1]:\n",
    "            return 0\n",
    "        else:\n",
    "            return 1\n",
    "        #return class_probability"
   ]
  },
  {
   "cell_type": "code",
   "execution_count": 73,
   "metadata": {},
   "outputs": [],
   "source": [
    "NB_predictor = NaiveBayes(train_x, train_y)"
   ]
  },
  {
   "cell_type": "code",
   "execution_count": 74,
   "metadata": {},
   "outputs": [
    {
     "data": {
      "text/plain": [
       "0"
      ]
     },
     "execution_count": 74,
     "metadata": {},
     "output_type": "execute_result"
    }
   ],
   "source": [
    "NB_predictor.predict([2.0, 0.0, 25.0, 0.0, 0.0, 53.1])"
   ]
  },
  {
   "cell_type": "code",
   "execution_count": 75,
   "metadata": {},
   "outputs": [
    {
     "data": {
      "text/plain": [
       "(0.7780637575124117,\n",
       " [0.6853932584269663,\n",
       "  0.8202247191011236,\n",
       "  0.7528089887640449,\n",
       "  0.7528089887640449,\n",
       "  0.7640449438202247,\n",
       "  0.8089887640449438,\n",
       "  0.7865168539325843,\n",
       "  0.7752808988764045,\n",
       "  0.8089887640449438,\n",
       "  0.8255813953488372])"
      ]
     },
     "execution_count": 75,
     "metadata": {},
     "output_type": "execute_result"
    }
   ],
   "source": [
    "#cross validation\n",
    "\n",
    "k_cross_validation(train_x,train_y,NaiveBayes)"
   ]
  },
  {
   "cell_type": "code",
   "execution_count": null,
   "metadata": {},
   "outputs": [],
   "source": []
  }
 ],
 "metadata": {
  "kernelspec": {
   "display_name": "Python 3",
   "language": "python",
   "name": "python3"
  },
  "language_info": {
   "codemirror_mode": {
    "name": "ipython",
    "version": 3
   },
   "file_extension": ".py",
   "mimetype": "text/x-python",
   "name": "python",
   "nbconvert_exporter": "python",
   "pygments_lexer": "ipython3",
   "version": "3.8.5"
  }
 },
 "nbformat": 4,
 "nbformat_minor": 4
}
