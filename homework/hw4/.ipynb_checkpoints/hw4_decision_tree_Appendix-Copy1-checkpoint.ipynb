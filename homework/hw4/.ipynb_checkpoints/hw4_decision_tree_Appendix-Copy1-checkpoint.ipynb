{
 "cells": [
  {
   "cell_type": "code",
   "execution_count": 1,
   "metadata": {},
   "outputs": [],
   "source": [
    "import csv\n",
    "import numpy as np\n",
    "import copy\n",
    "import time\n",
    "import math\n",
    "from scipy import stats\n",
    "import random"
   ]
  },
  {
   "cell_type": "code",
   "execution_count": 2,
   "metadata": {},
   "outputs": [],
   "source": [
    "def split_train_label(data):\n",
    "    train_x = []\n",
    "    train_y = []\n",
    "    for i in data:\n",
    "        train_x.append(i[1:])\n",
    "        train_y.append([i[0]])\n",
    "        \n",
    "    return train_x,train_y"
   ]
  },
  {
   "cell_type": "code",
   "execution_count": 3,
   "metadata": {},
   "outputs": [],
   "source": [
    "with open('titanic_data.csv','r') as file:\n",
    "    temp = csv.reader(file)\n",
    "    data = list(temp)\n",
    "\n",
    "header = data[0]\n",
    "data = data[1:]\n",
    "for i in range(len(data)):\n",
    "    row_len = len(data[0])\n",
    "    for j in range(row_len):\n",
    "        data[i][j] = float(data[i][j])\n",
    "    \n",
    "train_x, train_y = split_train_label(data)"
   ]
  },
  {
   "cell_type": "markdown",
   "metadata": {},
   "source": [
    "# Convert all features into binary features"
   ]
  },
  {
   "cell_type": "markdown",
   "metadata": {},
   "source": [
    "I used average as the criteria to change the data"
   ]
  },
  {
   "cell_type": "code",
   "execution_count": 4,
   "metadata": {},
   "outputs": [
    {
     "name": "stdout",
     "output_type": "stream",
     "text": [
      "[2.305524239007892, 0.35400225479143177, 29.471443066516347, 0.5253664036076663, 0.3833145434047351, 32.30542018038328]\n"
     ]
    }
   ],
   "source": [
    "#binary conversion\n",
    "binary_avg = []\n",
    "for i in range(len(header[1:])):\n",
    "    total = 0\n",
    "    avg = 0\n",
    "    for j in train_x:\n",
    "        total += j[i]  \n",
    "    avg = total/len(train_x)      \n",
    "    binary_avg.append(avg)\n",
    "    \n",
    "for i in range(len(train_x)):\n",
    "    for j in range(len(train_x[0])):\n",
    "        if train_x[i][j] >= binary_avg[j]:\n",
    "            train_x[i][j] = 1.0\n",
    "        else:\n",
    "            train_x[i][j] = 0.0\n",
    "            \n",
    "print(binary_avg)"
   ]
  },
  {
   "cell_type": "markdown",
   "metadata": {},
   "source": [
    "# calculate mutual information"
   ]
  },
  {
   "cell_type": "code",
   "execution_count": 5,
   "metadata": {},
   "outputs": [],
   "source": [
    "def count_ones_Hx(featureNumber,data): # choice is 0 or 1, and data is the training data that will be gone over\n",
    "    x_prob = {}\n",
    "    count = 0\n",
    "    for i in range(len(data)):\n",
    "        if 1 == data[i][featureNumber]:\n",
    "            count += 1\n",
    "    x_prob[1] = count/len(data)\n",
    "    x_prob[0] = 1-x_prob[1]\n",
    "    return x_prob\n",
    "\n",
    "def count_ones_Hxy(featureNumber,dataX,dataY): # choice is 0 or 1, and data is the training data that will be gone over\n",
    "    x_y_prob = {(0,0):0,(0,1):0,(1,0):0,(1,1):0}\n",
    "    x_cond_y = {(0,0):0,(0,1):0,(1,0):0,(1,1):0}\n",
    "    count_y = [0,0] ## condition when y = 0 or 1\n",
    "\n",
    "    for i in range(len(dataX)):\n",
    "        for j in range(2):\n",
    "            for k in range(2):\n",
    "                if dataX[i][featureNumber] == j and dataY[i][0] == k:\n",
    "                    x_y_prob[(j,k)] += 1\n",
    "                    \n",
    "    if (x_y_prob[(0,0)]+x_y_prob[(1,0)]) != 0:\n",
    "        x_cond_y[(0,0)] = x_y_prob[(0,0)]/(x_y_prob[(0,0)]+x_y_prob[(1,0)])\n",
    "        x_cond_y[(1,0)] = x_y_prob[(1,0)]/(x_y_prob[(0,0)]+x_y_prob[(1,0)])\n",
    "    if (x_y_prob[(0,1)]+x_y_prob[(1,1)]) != 0:\n",
    "        x_cond_y[(0,1)] = x_y_prob[(0,1)]/(x_y_prob[(0,1)]+x_y_prob[(1,1)])  \n",
    "        x_cond_y[(1,1)] = x_y_prob[(1,1)]/(x_y_prob[(0,1)]+x_y_prob[(1,1)]) \n",
    "    for i in x_y_prob.keys():\n",
    "        x_y_prob[i] = x_y_prob[i]/len(dataX)\n",
    "            \n",
    "    return x_y_prob,x_cond_y\n",
    "            \n",
    "def MI_eval(train_x,train_y,feature_checked):\n",
    "    MI_array = []\n",
    "    for i in range(len(train_x[0])): # i is the feature to calculate mutual information\n",
    "        if feature_checked[i] == 1:\n",
    "            MI_array.append(0)\n",
    "            continue\n",
    "        Hx = 0\n",
    "        Hxy = 0\n",
    "        x_prob = count_ones_Hx(i,train_x)\n",
    "        x_y_prob,x_cond_y = count_ones_Hxy(i,train_x,train_y)\n",
    "        for j in range(2):\n",
    "            if x_prob[j] != 0:\n",
    "                Hx += x_prob[j]*math.log((1/x_prob[j]),2)\n",
    "            for k in range(2):\n",
    "                if x_cond_y[j,k] == 0:\n",
    "                    Hxy += 0\n",
    "                else:\n",
    "                    if x_cond_y[j,k] != 0:\n",
    "                        Hxy += x_y_prob[j,k]*math.log((1/x_cond_y[j,k]),2)\n",
    "        MI_array.append(Hx-Hxy)\n",
    "    \n",
    "    MI_y = 0\n",
    "    prob_y = 0\n",
    "    for i in train_y:\n",
    "        MI_y += i[0]\n",
    "    prob_y = MI_y/len(train_y)\n",
    "    \n",
    "    if prob_y == 0 or prob_y == 1:\n",
    "        information_y = 0\n",
    "    else:\n",
    "        information_y = prob_y*math.log(1/prob_y,2) + (1-prob_y)*math.log(1/(1-prob_y),2)\n",
    "    return MI_array, information_y"
   ]
  },
  {
   "cell_type": "markdown",
   "metadata": {},
   "source": [
    "# Build Decision Tree"
   ]
  },
  {
   "cell_type": "code",
   "execution_count": 6,
   "metadata": {},
   "outputs": [],
   "source": [
    "class decision_tree_node:\n",
    "    def __init__(self, train_x, train_y, feature_checked = [0,0,0,0,0,0], order = []):\n",
    "        self.train_x = train_x\n",
    "        self.train_y = train_y\n",
    "        self.feature_checked = feature_checked\n",
    "        self.isleaf = 0\n",
    "        self.leftNode = None\n",
    "        self.rightNode = None\n",
    "        self.feature_choice = None\n",
    "        self.order = copy.deepcopy(order)\n",
    "        self.build_tree()\n",
    "        \n",
    "    def build_tree(self):\n",
    "        MI, Hy = MI_eval(self.train_x, self.train_y, self.feature_checked)\n",
    "        left_x = []\n",
    "        left_y = []\n",
    "        right_x = []\n",
    "        right_y = []\n",
    "            \n",
    "        if Hy <= 0.05 or sum(self.feature_checked) == len(self.train_x[0]):\n",
    "            self.isleaf = 1\n",
    "            print(self.order)\n",
    "\n",
    "        else:\n",
    "            max_idx = 0\n",
    "            for i in range(len(MI)):\n",
    "                if MI[i] > MI[max_idx]:\n",
    "                    max_idx = i\n",
    "            self.feature_choice = max_idx\n",
    "            \n",
    "            for i in range(len(self.train_x)):\n",
    "                if self.train_x[i][max_idx] == 0:\n",
    "                    left_x.append(self.train_x[i])\n",
    "                    left_y.append(self.train_y[i])\n",
    "                else:\n",
    "                    right_x.append(self.train_x[i])\n",
    "                    right_y.append(self.train_y[i])\n",
    "        \n",
    "        if len(left_x) and len(right_x) > 0:\n",
    "            new_feature_checked = copy.deepcopy(self.feature_checked)\n",
    "            new_feature_checked[self.feature_choice] = 1\n",
    "            self.order.append(str(self.feature_choice) + \" L \")\n",
    "            self.leftNode = decision_tree_node(left_x,left_y,new_feature_checked,self.order)\n",
    "            self.order[-1] = str(self.feature_choice) + \" R \"\n",
    "            self.rightNode = decision_tree_node(right_x,right_y,new_feature_checked,self.order)\n",
    "        else:\n",
    "            self.isleaf = 1\n",
    "    def predict(self,train_x):\n",
    "            if self.isleaf == 1:\n",
    "                count_1 = 0\n",
    "                count_0 = 0\n",
    "                for i in range(len(self.train_y)):\n",
    "                    if self.train_y[i][0] == 1:\n",
    "                        count_1 += 1\n",
    "                    else:\n",
    "                        count_0 += 1\n",
    "                prob_1 = count_1/(count_1+count_0)\n",
    "                prob_0 = count_0/(count_1+count_0)\n",
    "                if prob_1 > prob_0:\n",
    "                    return 1\n",
    "                else:\n",
    "                    return 0\n",
    "\n",
    "            elif train_x[self.feature_choice] == 0:\n",
    "                #print('feature:' ,self.feature_choice, ' go left')\n",
    "                return(self.leftNode.predict(train_x))\n",
    "            elif train_x[self.feature_choice] == 1:\n",
    "                #print('feature:' ,self.feature_choice, ' go right')\n",
    "                return(self.rightNode.predict(train_x))"
   ]
  },
  {
   "cell_type": "code",
   "execution_count": 7,
   "metadata": {},
   "outputs": [
    {
     "name": "stdout",
     "output_type": "stream",
     "text": [
      "['1 L ', '0 L ', '4 L ', '5 L ', '3 L ', '2 L ']\n",
      "['1 L ', '0 L ', '4 L ', '5 L ', '3 L ', '2 R ']\n",
      "['1 L ', '0 L ', '4 L ', '5 L ', '3 R ', '2 L ']\n",
      "['1 L ', '0 L ', '4 L ', '5 L ', '3 R ', '2 R ']\n",
      "['1 L ', '0 L ', '4 L ', '5 R ', '3 L ', '2 L ']\n",
      "['1 L ', '0 L ', '4 L ', '5 R ', '3 L ', '2 R ']\n",
      "['1 L ', '0 L ', '4 L ', '5 R ', '3 R ', '2 L ']\n",
      "['1 L ', '0 L ', '4 L ', '5 R ', '3 R ', '2 R ']\n",
      "['1 L ', '0 L ', '4 R ', '2 L ', '5 L ', '3 L ']\n",
      "['1 L ', '0 L ', '4 R ', '2 L ', '5 L ', '3 R ']\n",
      "['1 L ', '0 L ', '4 R ', '2 L ', '5 R ', '3 L ']\n",
      "['1 L ', '0 L ', '4 R ', '2 L ', '5 R ', '3 R ']\n",
      "['1 L ', '0 L ', '4 R ', '2 R ', '5 L ']\n",
      "['1 L ', '0 L ', '4 R ', '2 R ', '5 R ', '3 L ']\n",
      "['1 L ', '0 L ', '4 R ', '2 R ', '5 R ', '3 R ']\n",
      "['1 L ', '0 R ', '4 L ', '5 L ', '2 L ', '3 L ']\n",
      "['1 L ', '0 R ', '4 L ', '5 L ', '2 L ', '3 R ']\n",
      "['1 L ', '0 R ', '4 L ', '5 L ', '2 R ', '3 L ']\n",
      "['1 L ', '0 R ', '4 L ', '5 L ', '2 R ', '3 R ']\n",
      "['1 L ', '0 R ', '4 L ', '5 R ', '2 R ']\n",
      "['1 L ', '0 R ', '4 R ', '5 L ', '2 L ', '3 L ']\n",
      "['1 L ', '0 R ', '4 R ', '5 L ', '2 L ', '3 R ']\n",
      "['1 L ', '0 R ', '4 R ', '5 L ', '2 R ']\n",
      "['1 L ', '0 R ', '4 R ', '5 R ']\n",
      "['1 R ', '0 L ', '5 L ', '4 L ', '2 L ', '3 L ']\n",
      "['1 R ', '0 L ', '5 L ', '4 L ', '2 L ', '3 R ']\n",
      "['1 R ', '0 L ', '5 L ', '4 L ', '2 R ', '3 L ']\n",
      "['1 R ', '0 L ', '5 L ', '4 L ', '2 R ', '3 R ']\n",
      "['1 R ', '0 L ', '5 L ', '4 R ', '3 L ']\n",
      "['1 R ', '0 L ', '5 L ', '4 R ', '3 R ', '2 L ']\n",
      "['1 R ', '0 L ', '5 L ', '4 R ', '3 R ', '2 R ']\n",
      "['1 R ', '0 L ', '5 R ', '2 L ', '3 L ']\n",
      "['1 R ', '0 L ', '5 R ', '2 L ', '3 R ', '4 L ']\n",
      "['1 R ', '0 L ', '5 R ', '2 L ', '3 R ', '4 R ']\n",
      "['1 R ', '0 L ', '5 R ', '2 R ']\n",
      "['1 R ', '0 R ', '5 L ', '3 L ', '2 L ', '4 L ']\n",
      "['1 R ', '0 R ', '5 L ', '3 L ', '2 L ', '4 R ']\n",
      "['1 R ', '0 R ', '5 L ', '3 L ', '2 R ', '4 L ']\n",
      "['1 R ', '0 R ', '5 L ', '3 L ', '2 R ', '4 R ']\n",
      "['1 R ', '0 R ', '5 L ', '3 R ', '4 L ', '2 L ']\n",
      "['1 R ', '0 R ', '5 L ', '3 R ', '4 L ', '2 R ']\n",
      "['1 R ', '0 R ', '5 L ', '3 R ', '4 R ', '2 L ']\n",
      "['1 R ', '0 R ', '5 L ', '3 R ', '4 R ', '2 R ']\n",
      "['1 R ', '0 R ', '5 R ']\n"
     ]
    }
   ],
   "source": [
    "a = decision_tree_node(train_x, train_y)"
   ]
  },
  {
   "cell_type": "code",
   "execution_count": 22,
   "metadata": {},
   "outputs": [],
   "source": [
    "def display_tree(node):\n",
    "    if node.feature_choice == None:\n",
    "        pass\n",
    "    else:\n",
    "        print(node.feature_choice)\n",
    "        print('left',display_tree(node.leftNode))\n",
    "        print('right',display_tree(node.rightNode))"
   ]
  },
  {
   "cell_type": "code",
   "execution_count": 23,
   "metadata": {},
   "outputs": [
    {
     "name": "stdout",
     "output_type": "stream",
     "text": [
      "1\n",
      "0\n",
      "4\n",
      "5\n",
      "3\n",
      "2\n",
      "left None\n",
      "right None\n",
      "left None\n",
      "2\n",
      "left None\n",
      "right None\n",
      "right None\n",
      "left None\n",
      "3\n",
      "2\n",
      "left None\n",
      "right None\n",
      "left None\n",
      "2\n",
      "left None\n",
      "right None\n",
      "right None\n",
      "right None\n",
      "left None\n",
      "2\n",
      "5\n",
      "3\n",
      "left None\n",
      "right None\n",
      "left None\n",
      "3\n",
      "left None\n",
      "right None\n",
      "right None\n",
      "left None\n",
      "5\n",
      "left None\n",
      "3\n",
      "left None\n",
      "right None\n",
      "right None\n",
      "right None\n",
      "right None\n",
      "left None\n",
      "4\n",
      "5\n",
      "2\n",
      "3\n",
      "left None\n",
      "right None\n",
      "left None\n",
      "3\n",
      "left None\n",
      "right None\n",
      "right None\n",
      "left None\n",
      "2\n",
      "0\n"
     ]
    },
    {
     "ename": "AttributeError",
     "evalue": "'NoneType' object has no attribute 'feature_choice'",
     "output_type": "error",
     "traceback": [
      "\u001b[0;31m---------------------------------------------------------------------------\u001b[0m",
      "\u001b[0;31mAttributeError\u001b[0m                            Traceback (most recent call last)",
      "\u001b[0;32m<ipython-input-23-eae69699058f>\u001b[0m in \u001b[0;36m<module>\u001b[0;34m\u001b[0m\n\u001b[0;32m----> 1\u001b[0;31m \u001b[0mdisplay_tree\u001b[0m\u001b[0;34m(\u001b[0m\u001b[0ma\u001b[0m\u001b[0;34m)\u001b[0m\u001b[0;34m\u001b[0m\u001b[0;34m\u001b[0m\u001b[0m\n\u001b[0m",
      "\u001b[0;32m<ipython-input-22-2da89be4c8d5>\u001b[0m in \u001b[0;36mdisplay_tree\u001b[0;34m(node)\u001b[0m\n\u001b[1;32m      4\u001b[0m     \u001b[0;32melse\u001b[0m\u001b[0;34m:\u001b[0m\u001b[0;34m\u001b[0m\u001b[0;34m\u001b[0m\u001b[0m\n\u001b[1;32m      5\u001b[0m         \u001b[0mprint\u001b[0m\u001b[0;34m(\u001b[0m\u001b[0mnode\u001b[0m\u001b[0;34m.\u001b[0m\u001b[0mfeature_choice\u001b[0m\u001b[0;34m)\u001b[0m\u001b[0;34m\u001b[0m\u001b[0;34m\u001b[0m\u001b[0m\n\u001b[0;32m----> 6\u001b[0;31m         \u001b[0mprint\u001b[0m\u001b[0;34m(\u001b[0m\u001b[0;34m'left'\u001b[0m\u001b[0;34m,\u001b[0m\u001b[0mdisplay_tree\u001b[0m\u001b[0;34m(\u001b[0m\u001b[0mnode\u001b[0m\u001b[0;34m.\u001b[0m\u001b[0mleftNode\u001b[0m\u001b[0;34m)\u001b[0m\u001b[0;34m)\u001b[0m\u001b[0;34m\u001b[0m\u001b[0;34m\u001b[0m\u001b[0m\n\u001b[0m\u001b[1;32m      7\u001b[0m         \u001b[0mprint\u001b[0m\u001b[0;34m(\u001b[0m\u001b[0;34m'right'\u001b[0m\u001b[0;34m,\u001b[0m\u001b[0mdisplay_tree\u001b[0m\u001b[0;34m(\u001b[0m\u001b[0mnode\u001b[0m\u001b[0;34m.\u001b[0m\u001b[0mrightNode\u001b[0m\u001b[0;34m)\u001b[0m\u001b[0;34m)\u001b[0m\u001b[0;34m\u001b[0m\u001b[0;34m\u001b[0m\u001b[0m\n",
      "\u001b[0;32m<ipython-input-22-2da89be4c8d5>\u001b[0m in \u001b[0;36mdisplay_tree\u001b[0;34m(node)\u001b[0m\n\u001b[1;32m      5\u001b[0m         \u001b[0mprint\u001b[0m\u001b[0;34m(\u001b[0m\u001b[0mnode\u001b[0m\u001b[0;34m.\u001b[0m\u001b[0mfeature_choice\u001b[0m\u001b[0;34m)\u001b[0m\u001b[0;34m\u001b[0m\u001b[0;34m\u001b[0m\u001b[0m\n\u001b[1;32m      6\u001b[0m         \u001b[0mprint\u001b[0m\u001b[0;34m(\u001b[0m\u001b[0;34m'left'\u001b[0m\u001b[0;34m,\u001b[0m\u001b[0mdisplay_tree\u001b[0m\u001b[0;34m(\u001b[0m\u001b[0mnode\u001b[0m\u001b[0;34m.\u001b[0m\u001b[0mleftNode\u001b[0m\u001b[0;34m)\u001b[0m\u001b[0;34m)\u001b[0m\u001b[0;34m\u001b[0m\u001b[0;34m\u001b[0m\u001b[0m\n\u001b[0;32m----> 7\u001b[0;31m         \u001b[0mprint\u001b[0m\u001b[0;34m(\u001b[0m\u001b[0;34m'right'\u001b[0m\u001b[0;34m,\u001b[0m\u001b[0mdisplay_tree\u001b[0m\u001b[0;34m(\u001b[0m\u001b[0mnode\u001b[0m\u001b[0;34m.\u001b[0m\u001b[0mrightNode\u001b[0m\u001b[0;34m)\u001b[0m\u001b[0;34m)\u001b[0m\u001b[0;34m\u001b[0m\u001b[0;34m\u001b[0m\u001b[0m\n\u001b[0m",
      "\u001b[0;32m<ipython-input-22-2da89be4c8d5>\u001b[0m in \u001b[0;36mdisplay_tree\u001b[0;34m(node)\u001b[0m\n\u001b[1;32m      4\u001b[0m     \u001b[0;32melse\u001b[0m\u001b[0;34m:\u001b[0m\u001b[0;34m\u001b[0m\u001b[0;34m\u001b[0m\u001b[0m\n\u001b[1;32m      5\u001b[0m         \u001b[0mprint\u001b[0m\u001b[0;34m(\u001b[0m\u001b[0mnode\u001b[0m\u001b[0;34m.\u001b[0m\u001b[0mfeature_choice\u001b[0m\u001b[0;34m)\u001b[0m\u001b[0;34m\u001b[0m\u001b[0;34m\u001b[0m\u001b[0m\n\u001b[0;32m----> 6\u001b[0;31m         \u001b[0mprint\u001b[0m\u001b[0;34m(\u001b[0m\u001b[0;34m'left'\u001b[0m\u001b[0;34m,\u001b[0m\u001b[0mdisplay_tree\u001b[0m\u001b[0;34m(\u001b[0m\u001b[0mnode\u001b[0m\u001b[0;34m.\u001b[0m\u001b[0mleftNode\u001b[0m\u001b[0;34m)\u001b[0m\u001b[0;34m)\u001b[0m\u001b[0;34m\u001b[0m\u001b[0;34m\u001b[0m\u001b[0m\n\u001b[0m\u001b[1;32m      7\u001b[0m         \u001b[0mprint\u001b[0m\u001b[0;34m(\u001b[0m\u001b[0;34m'right'\u001b[0m\u001b[0;34m,\u001b[0m\u001b[0mdisplay_tree\u001b[0m\u001b[0;34m(\u001b[0m\u001b[0mnode\u001b[0m\u001b[0;34m.\u001b[0m\u001b[0mrightNode\u001b[0m\u001b[0;34m)\u001b[0m\u001b[0;34m)\u001b[0m\u001b[0;34m\u001b[0m\u001b[0;34m\u001b[0m\u001b[0m\n",
      "\u001b[0;32m<ipython-input-22-2da89be4c8d5>\u001b[0m in \u001b[0;36mdisplay_tree\u001b[0;34m(node)\u001b[0m\n\u001b[1;32m      5\u001b[0m         \u001b[0mprint\u001b[0m\u001b[0;34m(\u001b[0m\u001b[0mnode\u001b[0m\u001b[0;34m.\u001b[0m\u001b[0mfeature_choice\u001b[0m\u001b[0;34m)\u001b[0m\u001b[0;34m\u001b[0m\u001b[0;34m\u001b[0m\u001b[0m\n\u001b[1;32m      6\u001b[0m         \u001b[0mprint\u001b[0m\u001b[0;34m(\u001b[0m\u001b[0;34m'left'\u001b[0m\u001b[0;34m,\u001b[0m\u001b[0mdisplay_tree\u001b[0m\u001b[0;34m(\u001b[0m\u001b[0mnode\u001b[0m\u001b[0;34m.\u001b[0m\u001b[0mleftNode\u001b[0m\u001b[0;34m)\u001b[0m\u001b[0;34m)\u001b[0m\u001b[0;34m\u001b[0m\u001b[0;34m\u001b[0m\u001b[0m\n\u001b[0;32m----> 7\u001b[0;31m         \u001b[0mprint\u001b[0m\u001b[0;34m(\u001b[0m\u001b[0;34m'right'\u001b[0m\u001b[0;34m,\u001b[0m\u001b[0mdisplay_tree\u001b[0m\u001b[0;34m(\u001b[0m\u001b[0mnode\u001b[0m\u001b[0;34m.\u001b[0m\u001b[0mrightNode\u001b[0m\u001b[0;34m)\u001b[0m\u001b[0;34m)\u001b[0m\u001b[0;34m\u001b[0m\u001b[0;34m\u001b[0m\u001b[0m\n\u001b[0m",
      "\u001b[0;32m<ipython-input-22-2da89be4c8d5>\u001b[0m in \u001b[0;36mdisplay_tree\u001b[0;34m(node)\u001b[0m\n\u001b[1;32m      4\u001b[0m     \u001b[0;32melse\u001b[0m\u001b[0;34m:\u001b[0m\u001b[0;34m\u001b[0m\u001b[0;34m\u001b[0m\u001b[0m\n\u001b[1;32m      5\u001b[0m         \u001b[0mprint\u001b[0m\u001b[0;34m(\u001b[0m\u001b[0mnode\u001b[0m\u001b[0;34m.\u001b[0m\u001b[0mfeature_choice\u001b[0m\u001b[0;34m)\u001b[0m\u001b[0;34m\u001b[0m\u001b[0;34m\u001b[0m\u001b[0m\n\u001b[0;32m----> 6\u001b[0;31m         \u001b[0mprint\u001b[0m\u001b[0;34m(\u001b[0m\u001b[0;34m'left'\u001b[0m\u001b[0;34m,\u001b[0m\u001b[0mdisplay_tree\u001b[0m\u001b[0;34m(\u001b[0m\u001b[0mnode\u001b[0m\u001b[0;34m.\u001b[0m\u001b[0mleftNode\u001b[0m\u001b[0;34m)\u001b[0m\u001b[0;34m)\u001b[0m\u001b[0;34m\u001b[0m\u001b[0;34m\u001b[0m\u001b[0m\n\u001b[0m\u001b[1;32m      7\u001b[0m         \u001b[0mprint\u001b[0m\u001b[0;34m(\u001b[0m\u001b[0;34m'right'\u001b[0m\u001b[0;34m,\u001b[0m\u001b[0mdisplay_tree\u001b[0m\u001b[0;34m(\u001b[0m\u001b[0mnode\u001b[0m\u001b[0;34m.\u001b[0m\u001b[0mrightNode\u001b[0m\u001b[0;34m)\u001b[0m\u001b[0;34m)\u001b[0m\u001b[0;34m\u001b[0m\u001b[0;34m\u001b[0m\u001b[0m\n",
      "\u001b[0;32m<ipython-input-22-2da89be4c8d5>\u001b[0m in \u001b[0;36mdisplay_tree\u001b[0;34m(node)\u001b[0m\n\u001b[1;32m      4\u001b[0m     \u001b[0;32melse\u001b[0m\u001b[0;34m:\u001b[0m\u001b[0;34m\u001b[0m\u001b[0;34m\u001b[0m\u001b[0m\n\u001b[1;32m      5\u001b[0m         \u001b[0mprint\u001b[0m\u001b[0;34m(\u001b[0m\u001b[0mnode\u001b[0m\u001b[0;34m.\u001b[0m\u001b[0mfeature_choice\u001b[0m\u001b[0;34m)\u001b[0m\u001b[0;34m\u001b[0m\u001b[0;34m\u001b[0m\u001b[0m\n\u001b[0;32m----> 6\u001b[0;31m         \u001b[0mprint\u001b[0m\u001b[0;34m(\u001b[0m\u001b[0;34m'left'\u001b[0m\u001b[0;34m,\u001b[0m\u001b[0mdisplay_tree\u001b[0m\u001b[0;34m(\u001b[0m\u001b[0mnode\u001b[0m\u001b[0;34m.\u001b[0m\u001b[0mleftNode\u001b[0m\u001b[0;34m)\u001b[0m\u001b[0;34m)\u001b[0m\u001b[0;34m\u001b[0m\u001b[0;34m\u001b[0m\u001b[0m\n\u001b[0m\u001b[1;32m      7\u001b[0m         \u001b[0mprint\u001b[0m\u001b[0;34m(\u001b[0m\u001b[0;34m'right'\u001b[0m\u001b[0;34m,\u001b[0m\u001b[0mdisplay_tree\u001b[0m\u001b[0;34m(\u001b[0m\u001b[0mnode\u001b[0m\u001b[0;34m.\u001b[0m\u001b[0mrightNode\u001b[0m\u001b[0;34m)\u001b[0m\u001b[0;34m)\u001b[0m\u001b[0;34m\u001b[0m\u001b[0;34m\u001b[0m\u001b[0m\n",
      "\u001b[0;32m<ipython-input-22-2da89be4c8d5>\u001b[0m in \u001b[0;36mdisplay_tree\u001b[0;34m(node)\u001b[0m\n\u001b[1;32m      1\u001b[0m \u001b[0;32mdef\u001b[0m \u001b[0mdisplay_tree\u001b[0m\u001b[0;34m(\u001b[0m\u001b[0mnode\u001b[0m\u001b[0;34m)\u001b[0m\u001b[0;34m:\u001b[0m\u001b[0;34m\u001b[0m\u001b[0;34m\u001b[0m\u001b[0m\n\u001b[0;32m----> 2\u001b[0;31m     \u001b[0;32mif\u001b[0m \u001b[0mnode\u001b[0m\u001b[0;34m.\u001b[0m\u001b[0mfeature_choice\u001b[0m \u001b[0;34m==\u001b[0m \u001b[0;32mNone\u001b[0m\u001b[0;34m:\u001b[0m\u001b[0;34m\u001b[0m\u001b[0;34m\u001b[0m\u001b[0m\n\u001b[0m\u001b[1;32m      3\u001b[0m         \u001b[0;32mpass\u001b[0m\u001b[0;34m\u001b[0m\u001b[0;34m\u001b[0m\u001b[0m\n\u001b[1;32m      4\u001b[0m     \u001b[0;32melse\u001b[0m\u001b[0;34m:\u001b[0m\u001b[0;34m\u001b[0m\u001b[0;34m\u001b[0m\u001b[0m\n\u001b[1;32m      5\u001b[0m         \u001b[0mprint\u001b[0m\u001b[0;34m(\u001b[0m\u001b[0mnode\u001b[0m\u001b[0;34m.\u001b[0m\u001b[0mfeature_choice\u001b[0m\u001b[0;34m)\u001b[0m\u001b[0;34m\u001b[0m\u001b[0;34m\u001b[0m\u001b[0m\n",
      "\u001b[0;31mAttributeError\u001b[0m: 'NoneType' object has no attribute 'feature_choice'"
     ]
    }
   ],
   "source": [
    "display_tree(a)"
   ]
  },
  {
   "cell_type": "markdown",
   "metadata": {},
   "source": [
    "# 10 fold cross validation"
   ]
  },
  {
   "cell_type": "code",
   "execution_count": 372,
   "metadata": {},
   "outputs": [
    {
     "name": "stdout",
     "output_type": "stream",
     "text": [
      "['1 L ', '3 L ', '0 L ', '2 L ', '5 L ']\n",
      "['1 L ', '3 L ', '0 L ', '2 R ', '4 L ', '5 L ']\n",
      "['1 L ', '3 L ', '0 L ', '2 R ', '4 L ', '5 R ']\n",
      "['1 L ', '3 L ', '0 L ', '2 R ', '4 R ']\n",
      "['1 L ', '3 L ', '0 R ', '5 L ', '2 R ']\n",
      "['1 L ', '3 L ', '0 R ', '5 R ']\n",
      "['1 L ', '3 R ', '4 L ']\n",
      "['1 L ', '3 R ', '4 R ', '5 L ', '2 R ']\n",
      "['1 L ', '3 R ', '4 R ', '5 R ']\n",
      "['1 R ', '3 L ', '0 L ']\n",
      "['1 R ', '3 L ', '0 R ', '2 L ', '4 R ']\n",
      "['1 R ', '3 L ', '0 R ', '2 R ']\n",
      "['1 R ', '3 R ', '0 L ', '5 L ', '4 R ']\n",
      "['1 R ', '3 R ', '0 L ', '5 R ']\n",
      "['1 R ', '3 R ', '0 R ', '5 L ', '4 L ', '2 L ']\n",
      "['1 R ', '3 R ', '0 R ', '5 L ', '4 L ', '2 R ']\n",
      "['1 R ', '3 R ', '0 R ', '5 L ', '4 R ', '2 L ']\n",
      "['1 R ', '3 R ', '0 R ', '5 L ', '4 R ', '2 R ']\n",
      "['1 R ', '3 R ', '0 R ', '5 R ']\n",
      "['1 L ', '2 L ', '0 L ', '4 L ']\n",
      "['1 L ', '2 L ', '0 L ', '4 R ', '3 R ']\n",
      "['1 L ', '2 L ', '0 R ', '5 R ']\n",
      "['1 L ', '2 R ']\n",
      "['1 R ', '0 L ', '2 L ']\n",
      "['1 R ', '0 L ', '2 R ', '4 R ']\n",
      "['1 R ', '0 R ', '2 L ', '5 L ', '4 L ', '3 L ']\n",
      "['1 R ', '0 R ', '2 L ', '5 L ', '4 L ', '3 R ']\n",
      "['1 R ', '0 R ', '2 L ', '5 R ']\n",
      "['1 R ', '0 R ', '2 R ']\n",
      "['1 L ', '4 L ', '2 R ', '0 L ', '5 L ', '3 L ']\n",
      "['1 L ', '4 L ', '2 R ', '0 L ', '5 L ', '3 R ']\n",
      "['1 L ', '4 L ', '2 R ', '0 L ', '5 R ', '3 L ']\n",
      "['1 L ', '4 L ', '2 R ', '0 L ', '5 R ', '3 R ']\n",
      "['1 L ', '4 L ', '2 R ', '0 R ']\n",
      "['1 L ', '4 R ', '0 L ', '2 L ']\n",
      "['1 L ', '4 R ', '0 R ', '2 L ', '5 R ']\n",
      "['1 L ', '4 R ', '0 R ', '2 R ']\n",
      "['1 R ', '0 L ', '2 L ', '4 L ']\n",
      "['1 R ', '0 L ', '2 L ', '4 R ']\n",
      "['1 R ', '0 L ', '2 R ']\n",
      "['1 R ', '0 R ', '2 L ', '5 L ', '4 L ', '3 L ']\n",
      "['1 R ', '0 R ', '2 L ', '5 L ', '4 L ', '3 R ']\n",
      "['1 R ', '0 R ', '2 L ', '5 L ', '4 R ', '3 L ']\n",
      "['1 R ', '0 R ', '2 L ', '5 L ', '4 R ', '3 R ']\n",
      "['1 R ', '0 R ', '2 L ', '5 R ']\n",
      "['1 R ', '0 R ', '2 R ']\n",
      "['1 L ', '3 L ', '5 L ', '2 L ', '0 L ']\n",
      "['1 L ', '3 L ', '5 L ', '2 R ', '4 L ', '0 L ']\n",
      "['1 L ', '3 L ', '5 L ', '2 R ', '4 L ', '0 R ']\n",
      "['1 L ', '3 L ', '5 L ', '2 R ', '4 R ']\n",
      "['1 L ', '3 L ', '5 R ']\n",
      "['1 L ', '3 R ', '2 L ', '0 L ', '4 L ']\n",
      "['1 L ', '3 R ', '2 L ', '0 L ', '4 R ']\n",
      "['1 L ', '3 R ', '2 L ', '0 R ', '5 L ', '4 L ']\n",
      "['1 L ', '3 R ', '2 L ', '0 R ', '5 L ', '4 R ']\n",
      "['1 L ', '3 R ', '2 L ', '0 R ', '5 R ']\n",
      "['1 L ', '3 R ', '2 R ']\n",
      "['1 R ', '5 L ', '3 L ', '0 L ', '2 L ']\n",
      "['1 R ', '5 L ', '3 L ', '0 L ', '2 R ', '4 L ']\n",
      "['1 R ', '5 L ', '3 L ', '0 L ', '2 R ', '4 R ']\n",
      "['1 R ', '5 L ', '3 R ', '0 L ', '4 L ']\n",
      "['1 R ', '5 L ', '3 R ', '0 R ']\n",
      "['1 R ', '5 R ', '3 L ']\n",
      "['1 R ', '5 R ', '3 R ', '4 L ']\n",
      "['1 R ', '5 R ', '3 R ', '4 R ', '2 R ']\n",
      "['1 L ', '0 L ', '4 L ', '2 L ', '3 L ', '5 L ']\n",
      "['1 L ', '0 L ', '4 L ', '2 L ', '3 L ', '5 R ']\n",
      "['1 L ', '0 L ', '4 L ', '2 L ', '3 R ', '5 L ']\n",
      "['1 L ', '0 L ', '4 L ', '2 L ', '3 R ', '5 R ']\n",
      "['1 L ', '0 L ', '4 L ', '2 R ', '3 R ']\n",
      "['1 L ', '0 L ', '4 R ', '5 L ']\n",
      "['1 L ', '0 R ', '3 R ']\n",
      "['1 R ', '0 L ']\n",
      "['1 R ', '0 R ', '3 L ', '2 R ', '4 R ']\n",
      "['1 R ', '0 R ', '3 R ', '2 L ']\n",
      "['1 R ', '0 R ', '3 R ', '2 R ']\n",
      "['1 L ', '0 L ', '4 L ', '3 L ', '5 L ', '2 L ']\n",
      "['1 L ', '0 L ', '4 L ', '3 L ', '5 L ', '2 R ']\n",
      "['1 L ', '0 L ', '4 L ', '3 L ', '5 R ']\n",
      "['1 L ', '0 L ', '4 L ', '3 R ', '5 L ']\n",
      "['1 L ', '0 L ', '4 L ', '3 R ', '5 R ', '2 L ']\n",
      "['1 L ', '0 L ', '4 L ', '3 R ', '5 R ', '2 R ']\n",
      "['1 L ', '0 L ', '4 R ']\n",
      "['1 L ', '0 R ', '2 L ', '5 L ', '4 L ', '3 L ']\n",
      "['1 L ', '0 R ', '2 L ', '5 L ', '4 L ', '3 R ']\n",
      "['1 L ', '0 R ', '2 L ', '5 R ', '3 L ']\n",
      "['1 L ', '0 R ', '2 L ', '5 R ', '3 R ']\n",
      "['1 L ', '0 R ', '2 R ']\n",
      "['1 R ', '0 L ', '2 L ', '3 L ']\n",
      "['1 R ', '0 L ', '2 L ', '3 R ', '5 L ']\n",
      "['1 R ', '0 L ', '2 L ', '3 R ', '5 R ']\n",
      "['1 R ', '0 L ', '2 R ']\n",
      "['1 R ', '0 R ', '4 L ', '2 L ']\n",
      "['1 R ', '0 R ', '4 R ', '3 L ']\n",
      "['0 L ', '1 L ', '4 L ', '3 L ', '5 L ', '2 L ']\n",
      "['0 L ', '1 L ', '4 L ', '3 L ', '5 L ', '2 R ']\n",
      "['0 L ', '1 L ', '4 L ', '3 L ', '5 R ']\n",
      "['0 L ', '1 L ', '4 R ']\n",
      "['0 L ', '1 R ']\n",
      "['0 R ', '1 L ', '4 L ', '3 R ']\n",
      "['0 R ', '1 L ', '4 R ', '2 L ']\n",
      "['0 R ', '1 L ', '4 R ', '2 R ']\n",
      "['0 R ', '1 R ', '4 L ', '3 L ', '2 L ']\n",
      "['0 R ', '1 R ', '4 L ', '3 L ', '2 R ']\n",
      "['0 R ', '1 R ', '4 L ', '3 R ', '2 R ']\n",
      "['0 R ', '1 R ', '4 R ']\n",
      "['1 L ', '5 L ', '0 L ', '2 L ']\n",
      "['1 L ', '5 L ', '0 L ', '2 R ', '3 R ']\n",
      "['1 L ', '5 L ', '0 R ', '3 L ']\n",
      "['1 L ', '5 L ', '0 R ', '3 R ', '2 L ', '4 L ']\n",
      "['1 L ', '5 L ', '0 R ', '3 R ', '2 L ', '4 R ']\n",
      "['1 L ', '5 L ', '0 R ', '3 R ', '2 R ']\n",
      "['1 L ', '5 R ', '4 L ', '3 L ']\n",
      "['1 L ', '5 R ', '4 L ', '3 R ', '2 L ']\n",
      "['1 L ', '5 R ', '4 R ', '3 R ']\n",
      "['1 R ', '0 L ']\n",
      "['1 R ', '0 R ', '2 R ']\n",
      "['1 L ', '4 L ', '5 L ', '3 L ', '2 L ', '0 L ']\n",
      "['1 L ', '4 L ', '5 L ', '3 L ', '2 L ', '0 R ']\n",
      "['1 L ', '4 L ', '5 L ', '3 L ', '2 R ', '0 L ']\n",
      "['1 L ', '4 L ', '5 L ', '3 L ', '2 R ', '0 R ']\n",
      "['1 L ', '4 L ', '5 L ', '3 R ']\n",
      "['1 L ', '4 L ', '5 R ', '2 R ', '3 R ']\n",
      "['1 L ', '4 R ', '2 L ', '0 L ']\n",
      "['1 L ', '4 R ', '2 L ', '0 R ', '3 L ']\n",
      "['1 L ', '4 R ', '2 R ']\n",
      "['1 R ', '0 L ', '5 L ', '3 L ', '2 L ']\n",
      "['1 R ', '0 L ', '5 L ', '3 R ']\n",
      "['1 R ', '0 L ', '5 R ']\n",
      "['1 R ', '0 R ', '3 L ', '2 L ']\n",
      "['1 R ', '0 R ', '3 R ']\n",
      "['1 L ', '2 L ', '0 L ', '4 L ', '3 R ']\n",
      "['1 L ', '2 L ', '0 L ', '4 R ', '5 L ']\n",
      "['1 L ', '2 L ', '0 R ', '5 R ']\n",
      "['1 L ', '2 R ', '5 L ', '0 R ']\n",
      "['1 L ', '2 R ', '5 R ', '0 L ']\n",
      "['1 L ', '2 R ', '5 R ', '0 R ']\n",
      "['1 R ', '0 L ', '5 L ', '3 L ']\n",
      "['1 R ', '0 L ', '5 L ', '3 R ', '2 L ']\n",
      "['1 R ', '0 L ', '5 L ', '3 R ', '2 R ']\n",
      "['1 R ', '0 L ', '5 R ']\n",
      "['1 R ', '0 R ', '3 L ', '4 R ', '2 L ']\n",
      "['1 R ', '0 R ', '3 L ', '4 R ', '2 R ']\n",
      "['1 R ', '0 R ', '3 R ', '4 L ']\n",
      "['1 R ', '0 R ', '3 R ', '4 R ']\n",
      "average accuracy =  0.7743910337641857\n"
     ]
    }
   ],
   "source": [
    "interval = math.ceil(len(train_x)/10)\n",
    "global_accuracy = []\n",
    "for i in range(10):\n",
    "    local_accuracy = 0\n",
    "    count = 0\n",
    "    tr_x = []\n",
    "    tr_y = []\n",
    "    te_x = []\n",
    "    te_y = []\n",
    "    tr_x += train_x[i*interval : (i+1)*interval]\n",
    "    tr_y += train_y[i*interval : (i+1)*interval]\n",
    "    te_x += train_x[0:i*interval]\n",
    "    te_x += train_x[(i+1)*interval:]\n",
    "    te_y += train_y[0:i*interval]\n",
    "    te_y += train_y[(i+1)*interval:]\n",
    "    tree = decision_tree_node(tr_x, tr_y)\n",
    "\n",
    "    for j in range(len(te_x)):\n",
    "         if tree.predict(te_x[j]) == te_y[j][0]:\n",
    "                count += 1\n",
    "    global_accuracy.append(count/len(te_x))\n",
    "print('average accuracy = ', sum(global_accuracy)/len(global_accuracy))"
   ]
  },
  {
   "cell_type": "code",
   "execution_count": 367,
   "metadata": {},
   "outputs": [
    {
     "data": {
      "text/plain": [
       "[0.7882205513784462,\n",
       " 0.7957393483709273,\n",
       " 0.7994987468671679,\n",
       " 0.7844611528822055,\n",
       " 0.8020050125313283,\n",
       " 0.7593984962406015,\n",
       " 0.7669172932330827,\n",
       " 0.7756892230576441,\n",
       " 0.7969924812030075,\n",
       " 0.7865168539325843]"
      ]
     },
     "execution_count": 367,
     "metadata": {},
     "output_type": "execute_result"
    }
   ],
   "source": [
    "global_accuracy"
   ]
  },
  {
   "cell_type": "markdown",
   "metadata": {},
   "source": [
    "# Will I survived?"
   ]
  },
  {
   "cell_type": "code",
   "execution_count": 325,
   "metadata": {},
   "outputs": [
    {
     "data": {
      "text/plain": [
       "0"
      ]
     },
     "execution_count": 325,
     "metadata": {},
     "output_type": "execute_result"
    }
   ],
   "source": [
    "my_data = [1,0,0,0,0,1]\n",
    "tree.predict(my_data )"
   ]
  },
  {
   "cell_type": "markdown",
   "metadata": {},
   "source": [
    "# random forest"
   ]
  },
  {
   "cell_type": "code",
   "execution_count": 340,
   "metadata": {},
   "outputs": [],
   "source": [
    "interval = math.ceil(len(train_x)/10)\n",
    "forest = []\n",
    "global_accuracy = []\n",
    "for i in range(5):\n",
    "    tr_x = []\n",
    "    tr_y = []\n",
    "    te_x = []\n",
    "    te_y = []\n",
    "    for j in range(len(train_x)):\n",
    "        if random.random() <= 0.8:\n",
    "            tr_x.append(train_x[j])\n",
    "            tr_y.append(train_y[j])\n",
    "        else:\n",
    "            te_x.append(train_x[j])\n",
    "            te_y.append(train_y[j])\n",
    "\n",
    "    tree = decision_tree_node(tr_x, tr_y)\n",
    "    forest.append(tree)\n"
   ]
  },
  {
   "cell_type": "code",
   "execution_count": 341,
   "metadata": {},
   "outputs": [
    {
     "name": "stdout",
     "output_type": "stream",
     "text": [
      "0\n",
      "0\n",
      "0\n",
      "0\n",
      "0\n"
     ]
    }
   ],
   "source": [
    "for i in forest:\n",
    "    print(i.predict(my_data))"
   ]
  },
  {
   "cell_type": "markdown",
   "metadata": {},
   "source": [
    "# random forest + cross validation"
   ]
  },
  {
   "cell_type": "code",
   "execution_count": 344,
   "metadata": {},
   "outputs": [
    {
     "name": "stdout",
     "output_type": "stream",
     "text": [
      "[0.8, 0.8571428571428571, 0.7222222222222222, 0.8125, 0.7894736842105263, 1.0, 0.8095238095238095, 0.9285714285714286, 0.9047619047619048, 1.0]\n"
     ]
    }
   ],
   "source": [
    "interval = math.ceil(len(train_x)/10)\n",
    "global_accuracy = []\n",
    "for cros_val in range(10):\n",
    "    forest = []\n",
    "    train_x2 = []\n",
    "    train_y2 = []\n",
    "    test_x2 = []\n",
    "    test_y2 = []\n",
    "    train_x2 += train_x[cros_val*interval : (cros_val+1)*interval]\n",
    "    train_y2 += train_y[cros_val*interval : (cros_val+1)*interval]\n",
    "    test_x2 += train_x[0:cros_val*interval]\n",
    "    test_x2 += train_x[(cros_val+1)*interval:]\n",
    "    test_y2 += train_y[0:cros_val*interval]\n",
    "    test_y2 += train_y[(cros_val+1)*interval:]\n",
    "\n",
    "    for i in range(5):\n",
    "        tr_x = []\n",
    "        tr_y = []\n",
    "        te_x = []\n",
    "        te_y = []\n",
    "        for j in range(len(train_x2)):\n",
    "            if random.random() <= 0.8:\n",
    "                tr_x.append(train_x2[j])\n",
    "                tr_y.append(train_y2[j])\n",
    "            else:\n",
    "                te_x.append(train_x2[j])\n",
    "                te_y.append(train_y2[j])\n",
    "\n",
    "        tree = decision_tree_node(tr_x, tr_y)\n",
    "        forest.append(tree)\n",
    "    temp_accuracy = []\n",
    "    for k in range(len(te_x)):\n",
    "        temp = []\n",
    "        answer = None\n",
    "        for j in forest:\n",
    "            temp.append(j.predict(te_x[k]))\n",
    "        if sum(temp) > len(temp)/2 :\n",
    "            answer = 1\n",
    "        else :\n",
    "            answer = 0\n",
    "            \n",
    "        if answer == te_y[k][0]:\n",
    "            temp_accuracy.append(1)\n",
    "        else:\n",
    "            temp_accuracy.append(0)\n",
    "    global_accuracy.append(sum(temp_accuracy)/len(temp_accuracy))\n",
    "\n",
    "print(global_accuracy)"
   ]
  },
  {
   "cell_type": "markdown",
   "metadata": {},
   "source": [
    "#"
   ]
  },
  {
   "cell_type": "code",
   "execution_count": 199,
   "metadata": {},
   "outputs": [
    {
     "name": "stdout",
     "output_type": "stream",
     "text": [
      "[0.0, 0.0, 0.0, 0.0, 0.0, 0.0]\n",
      "[0.0, 0.0, 0.0, 0.0, 0.0, 0.0]\n",
      "[0.0, 0.0, 0.0, 0.0, 0.0, 0.0]\n",
      "[0.0, 0.0, 0.0, 0.0, 0.0, 0.0]\n",
      "[0.0, 0.0, 0.0, 0.0, 0.0, 0.0]\n",
      "[0.0, 0.0, 0.0, 0.0, 0.0, 0.0]\n",
      "[0.0, 0.0, 0.0, 0.0, 0.0, 0.0]\n",
      "[0.0, 0.0, 0.0, 0.0, 0.0, 0.0]\n",
      "[0.0, 0.0, 0.0, 0.0, 0.0, 0.0]\n",
      "[0.0, 0.0, 0.0, 0.0, 0.0, 0.0]\n",
      "[0.0, 0.0, 0.0, 0.0, 0.0, 0.0]\n",
      "[0.0, 0.0, 0.0, 0.0, 0.0, 0.0]\n",
      "[0.0, 0.0, 0.0, 0.0, 0.0, 0.0]\n",
      "[0.0, 0.0, 0.0, 0.0, 0.0, 0.0]\n",
      "[0.0, 0.0, 0.0, 0.0, 0.0, 0.0]\n",
      "[0.0, 0.0, 0.0, 0.0, 0.0, 0.0]\n",
      "[0.0, 0.0, 0.0, 0.0, 0.0, 0.0]\n",
      "[0.0, 0.0, 0.0, 0.0, 0.0, 0.0]\n",
      "[0.0, 0.0, 0.0, 0.0, 0.0, 0.0]\n",
      "[0.0, 0.0, 0.0, 0.0, 0.0, 0.0]\n",
      "[0.0, 0.0, 0.0, 0.0, 0.0, 0.0]\n",
      "[0.0, 0.0, 0.0, 0.0, 0.0, 0.0]\n",
      "[0.0, 0.0, 0.0, 0.0, 0.0, 0.0]\n",
      "[0.0, 0.0, 0.0, 0.0, 0.0, 0.0]\n",
      "[0.0, 0.0, 0.0, 0.0, 0.0, 0.0]\n",
      "[0.0, 0.0, 0.0, 0.0, 0.0, 0.0]\n",
      "[0.0, 0.0, 0.0, 0.0, 0.0, 0.0]\n",
      "[0.0, 0.0, 0.0, 0.0, 0.0, 0.0]\n",
      "[0.0, 0.0, 0.0, 0.0, 0.0, 0.0]\n",
      "[0.0, 0.0, 0.0, 0.0, 0.0, 0.0]\n",
      "[0.0, 0.0, 0.0, 0.0, 0.0, 0.0]\n",
      "[0.0, 0.0, 0.0, 0.0, 0.0, 0.0]\n",
      "[0.0, 0.0, 0.0, 0.0, 0.0, 0.0]\n",
      "[0.0, 0.0, 0.0, 0.0, 0.0, 0.0]\n",
      "[0.0, 0.0, 0.0, 0.0, 0.0, 0.0]\n",
      "[0.0, 0.0, 0.0, 0.0, 0.0, 0.0]\n",
      "[0.0, 0.0, 0.0, 0.0, 0.0, 0.0]\n",
      "[0.0, 0.0, 0.0, 0.0, 0.0, 0.0]\n"
     ]
    }
   ],
   "source": [
    "dat = []\n",
    "for i in range(len(train_x)):\n",
    "    if train_x[i] == [0,0,0,0,0,0]:\n",
    "        print(train_x[i])\n",
    "        dat.append(train_y[i][0])"
   ]
  },
  {
   "cell_type": "code",
   "execution_count": 200,
   "metadata": {},
   "outputs": [
    {
     "data": {
      "text/plain": [
       "38"
      ]
     },
     "execution_count": 200,
     "metadata": {},
     "output_type": "execute_result"
    }
   ],
   "source": [
    "len(dat)"
   ]
  },
  {
   "cell_type": "code",
   "execution_count": 234,
   "metadata": {},
   "outputs": [
    {
     "data": {
      "text/plain": [
       "0.42857142857142855"
      ]
     },
     "execution_count": 234,
     "metadata": {},
     "output_type": "execute_result"
    }
   ],
   "source": [
    "3/7"
   ]
  },
  {
   "cell_type": "code",
   "execution_count": 122,
   "metadata": {},
   "outputs": [
    {
     "name": "stdout",
     "output_type": "stream",
     "text": [
      "1\n",
      "isleaf 0\n",
      "0\n",
      "isleaf 0\n",
      "2\n",
      "isleaf 0\n",
      "5\n",
      "isleaf 0\n",
      "4\n",
      "isleaf 0\n",
      "3\n",
      "isleaf 0\n",
      "None\n",
      "isleaf 1\n"
     ]
    }
   ],
   "source": [
    "a= decision_tree_node(train_x, train_y)\n",
    "for i in range(7):\n",
    "    print(a.feature_choice)\n",
    "    print('isleaf',a.isleaf)\n",
    "    a = a.rightNode\n",
    "    "
   ]
  },
  {
   "cell_type": "code",
   "execution_count": 56,
   "metadata": {},
   "outputs": [
    {
     "data": {
      "text/plain": [
       "2.0"
      ]
     },
     "execution_count": 56,
     "metadata": {},
     "output_type": "execute_result"
    }
   ],
   "source": [
    "math.log(4,2)"
   ]
  },
  {
   "cell_type": "code",
   "execution_count": 67,
   "metadata": {},
   "outputs": [
    {
     "data": {
      "text/plain": [
       "[0, 0, 0, 0, 0, 0]"
      ]
     },
     "execution_count": 67,
     "metadata": {},
     "output_type": "execute_result"
    }
   ],
   "source": [
    "[0]*6"
   ]
  },
  {
   "cell_type": "code",
   "execution_count": 75,
   "metadata": {},
   "outputs": [
    {
     "data": {
      "text/plain": [
       "0.35335933502142136"
      ]
     },
     "execution_count": 75,
     "metadata": {},
     "output_type": "execute_result"
    }
   ],
   "source": [
    "(14/15 )*math.log(15/14,2) + (1/15) * math.log(15,2)"
   ]
  },
  {
   "cell_type": "code",
   "execution_count": 77,
   "metadata": {},
   "outputs": [
    {
     "ename": "TypeError",
     "evalue": "unsupported operand type(s) for +: 'int' and 'list'",
     "output_type": "error",
     "traceback": [
      "\u001b[0;31m---------------------------------------------------------------------------\u001b[0m",
      "\u001b[0;31mTypeError\u001b[0m                                 Traceback (most recent call last)",
      "\u001b[0;32m<ipython-input-77-57a543e9b04b>\u001b[0m in \u001b[0;36m<module>\u001b[0;34m\u001b[0m\n\u001b[0;32m----> 1\u001b[0;31m \u001b[0msum\u001b[0m\u001b[0;34m(\u001b[0m\u001b[0mtrain_y\u001b[0m\u001b[0;34m)\u001b[0m\u001b[0;34m\u001b[0m\u001b[0;34m\u001b[0m\u001b[0m\n\u001b[0m",
      "\u001b[0;31mTypeError\u001b[0m: unsupported operand type(s) for +: 'int' and 'list'"
     ]
    }
   ],
   "source": [
    "sum(train_y)"
   ]
  },
  {
   "cell_type": "code",
   "execution_count": 80,
   "metadata": {},
   "outputs": [],
   "source": [
    "MI_y = 0\n",
    "for i in train_y:\n",
    "        MI_y += i[0]"
   ]
  },
  {
   "cell_type": "code",
   "execution_count": null,
   "metadata": {},
   "outputs": [],
   "source": []
  },
  {
   "cell_type": "code",
   "execution_count": 83,
   "metadata": {},
   "outputs": [],
   "source": [
    "a = MI_y/len(train_y)"
   ]
  },
  {
   "cell_type": "code",
   "execution_count": 84,
   "metadata": {},
   "outputs": [
    {
     "data": {
      "text/plain": [
       "0.9618806789594468"
      ]
     },
     "execution_count": 84,
     "metadata": {},
     "output_type": "execute_result"
    }
   ],
   "source": [
    "a*math.log(1/a,2) + (1-a)*math.log(1/(1-a),2)"
   ]
  },
  {
   "cell_type": "code",
   "execution_count": null,
   "metadata": {},
   "outputs": [],
   "source": []
  }
 ],
 "metadata": {
  "kernelspec": {
   "display_name": "Python 3",
   "language": "python",
   "name": "python3"
  },
  "language_info": {
   "codemirror_mode": {
    "name": "ipython",
    "version": 3
   },
   "file_extension": ".py",
   "mimetype": "text/x-python",
   "name": "python",
   "nbconvert_exporter": "python",
   "pygments_lexer": "ipython3",
   "version": "3.8.5"
  }
 },
 "nbformat": 4,
 "nbformat_minor": 4
}
